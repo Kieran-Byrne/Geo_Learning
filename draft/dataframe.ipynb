{
 "cells": [
  {
   "cell_type": "code",
   "execution_count": 5,
   "metadata": {},
   "outputs": [],
   "source": [
    "import os\n",
    "import pandas as pd\n",
    "from params import *"
   ]
  },
  {
   "cell_type": "code",
   "execution_count": 11,
   "metadata": {},
   "outputs": [
    {
     "name": "stdout",
     "output_type": "stream",
     "text": [
      "7397 7397\n"
     ]
    }
   ],
   "source": [
    "tiny_dir = '/home/kenjiro/code/kieran-byrne/Geo_Learning/data/tiny_dataset'\n",
    "countries = []\n",
    "files = []\n",
    "for dir in os.listdir(tiny_dir):\n",
    "    for file in os.listdir(os.path.join(tiny_dir,dir)):\n",
    "        countries.append(dir)\n",
    "        files.append(file)\n",
    "print(len(countries), len(files))"
   ]
  },
  {
   "cell_type": "code",
   "execution_count": 13,
   "metadata": {},
   "outputs": [
    {
     "data": {
      "text/html": [
       "<div>\n",
       "<style scoped>\n",
       "    .dataframe tbody tr th:only-of-type {\n",
       "        vertical-align: middle;\n",
       "    }\n",
       "\n",
       "    .dataframe tbody tr th {\n",
       "        vertical-align: top;\n",
       "    }\n",
       "\n",
       "    .dataframe thead th {\n",
       "        text-align: right;\n",
       "    }\n",
       "</style>\n",
       "<table border=\"1\" class=\"dataframe\">\n",
       "  <thead>\n",
       "    <tr style=\"text-align: right;\">\n",
       "      <th></th>\n",
       "      <th>file_name</th>\n",
       "      <th>country</th>\n",
       "    </tr>\n",
       "  </thead>\n",
       "  <tbody>\n",
       "    <tr>\n",
       "      <th>0</th>\n",
       "      <td>canvas_1629325813.jpg</td>\n",
       "      <td>Poland</td>\n",
       "    </tr>\n",
       "    <tr>\n",
       "      <th>1</th>\n",
       "      <td>canvas_1629699606.jpg</td>\n",
       "      <td>Poland</td>\n",
       "    </tr>\n",
       "    <tr>\n",
       "      <th>2</th>\n",
       "      <td>canvas_1629263006.jpg</td>\n",
       "      <td>Poland</td>\n",
       "    </tr>\n",
       "    <tr>\n",
       "      <th>3</th>\n",
       "      <td>canvas_1629683434.jpg</td>\n",
       "      <td>Poland</td>\n",
       "    </tr>\n",
       "    <tr>\n",
       "      <th>4</th>\n",
       "      <td>canvas_1629502163.jpg</td>\n",
       "      <td>Poland</td>\n",
       "    </tr>\n",
       "    <tr>\n",
       "      <th>...</th>\n",
       "      <td>...</td>\n",
       "      <td>...</td>\n",
       "    </tr>\n",
       "    <tr>\n",
       "      <th>7392</th>\n",
       "      <td>canvas_1629938034.jpg</td>\n",
       "      <td>South Africa</td>\n",
       "    </tr>\n",
       "    <tr>\n",
       "      <th>7393</th>\n",
       "      <td>canvas_1629750321.jpg</td>\n",
       "      <td>South Africa</td>\n",
       "    </tr>\n",
       "    <tr>\n",
       "      <th>7394</th>\n",
       "      <td>canvas_1629433948.jpg</td>\n",
       "      <td>South Africa</td>\n",
       "    </tr>\n",
       "    <tr>\n",
       "      <th>7395</th>\n",
       "      <td>canvas_1630259494.jpg</td>\n",
       "      <td>South Africa</td>\n",
       "    </tr>\n",
       "    <tr>\n",
       "      <th>7396</th>\n",
       "      <td>canvas_1629330263.jpg</td>\n",
       "      <td>South Africa</td>\n",
       "    </tr>\n",
       "  </tbody>\n",
       "</table>\n",
       "<p>7397 rows × 2 columns</p>\n",
       "</div>"
      ],
      "text/plain": [
       "                  file_name       country\n",
       "0     canvas_1629325813.jpg        Poland\n",
       "1     canvas_1629699606.jpg        Poland\n",
       "2     canvas_1629263006.jpg        Poland\n",
       "3     canvas_1629683434.jpg        Poland\n",
       "4     canvas_1629502163.jpg        Poland\n",
       "...                     ...           ...\n",
       "7392  canvas_1629938034.jpg  South Africa\n",
       "7393  canvas_1629750321.jpg  South Africa\n",
       "7394  canvas_1629433948.jpg  South Africa\n",
       "7395  canvas_1630259494.jpg  South Africa\n",
       "7396  canvas_1629330263.jpg  South Africa\n",
       "\n",
       "[7397 rows x 2 columns]"
      ]
     },
     "execution_count": 13,
     "metadata": {},
     "output_type": "execute_result"
    }
   ],
   "source": [
    "dictionary = {'file_name': files,\n",
    "              'country': countries}\n",
    "pd.DataFrame.from_dict(dictionary)"
   ]
  },
  {
   "cell_type": "code",
   "execution_count": null,
   "metadata": {},
   "outputs": [],
   "source": [
    "def make_average_slices(img):\n",
    "    img_top = img[:220]\n",
    "    img_mid = img[220:440]\n",
    "    img_low = img[440:660]\n",
    "    average_top = img_top.mean(axis=0).mean(axis=0)\n",
    "    avg_patch_top = np.ones(shape=img_top.shape, dtype=np.uint8)*np.uint8(average_top)\n",
    "    average_mid = img_mid.mean(axis=0).mean(axis=0)\n",
    "    avg_patch_mid = np.ones(shape=img_mid.shape, dtype=np.uint8)*np.uint8(average_mid)\n",
    "    average_low = img_low.mean(axis=0).mean(axis=0)\n",
    "    avg_patch_low = np.ones(shape=img_low.shape, dtype=np.uint8)*np.uint8(average_low)\n",
    "    img_average = np.concatenate((avg_patch_top,avg_patch_mid,avg_patch_low),axis=0)\n",
    "    io.imshow(img_average)\n",
    "    return img_average\n",
    "img_average = make_average_slices(img)\n",
    "type(img_average)"
   ]
  }
 ],
 "metadata": {
  "kernelspec": {
   "display_name": "geo_learning",
   "language": "python",
   "name": "python3"
  },
  "language_info": {
   "codemirror_mode": {
    "name": "ipython",
    "version": 3
   },
   "file_extension": ".py",
   "mimetype": "text/x-python",
   "name": "python",
   "nbconvert_exporter": "python",
   "pygments_lexer": "ipython3",
   "version": "3.10.6"
  }
 },
 "nbformat": 4,
 "nbformat_minor": 2
}
